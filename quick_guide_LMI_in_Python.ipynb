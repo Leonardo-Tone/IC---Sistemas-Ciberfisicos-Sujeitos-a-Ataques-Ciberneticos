{
  "nbformat": 4,
  "nbformat_minor": 0,
  "metadata": {
    "colab": {
      "provenance": []
    },
    "kernelspec": {
      "name": "python3",
      "display_name": "Python 3"
    },
    "language_info": {
      "name": "python"
    }
  },
  "cells": [
    {
      "cell_type": "markdown",
      "source": [
        "# **Um guia prático para solução de LMIs usando Python**\n"
      ],
      "metadata": {
        "id": "fpfY-Dj1qcfl"
      }
    },
    {
      "cell_type": "markdown",
      "source": [
        "\n",
        "\n",
        "---\n",
        "\n",
        "\n",
        "Pedro Henrique Silva Coutinho\n",
        "\n",
        "Universidade do Estado do Rio de Janeiro\n",
        "\n",
        "Controle Robusto via Desigualdades Matriciais Lineares\n",
        "\n",
        "---\n"
      ],
      "metadata": {
        "id": "SCzrNcW-UG9f"
      }
    },
    {
      "cell_type": "markdown",
      "source": [
        "Este documento apresenta alguns exemplos de problemas de análise e síntese via desigualdades matriciais lineares usando Python. A ideia é que, a partir dos exemplos aqui apresentados, o leitor seja capaz de programar qualquer outro problema baseado em LMI de interesse com conhecimentos básicos de Python.\n",
        "\n",
        "Além da vantagem já conhecida do Python ser de cógido aberto, ferramentas como o Google Colab e Jupyther, por exemplo, possibilitam programar em Python online, dispensando instalações custosas ou acesso a licenças específicas. Além disso, ferramentas como o Google Colab permitem o compartilhamento de projetos.\n",
        "\n",
        "Aqui, para resolver problemas de otimização baseados em LMIs, será utilizado o CVXPY, que é um pacote dedicado à solução de problemas de programação semidefinida em Python. Veja a página do projeto abaixo:\n",
        "https://www.cvxpy.org/tutorial/index.html\n",
        "\n",
        "\n",
        "Um material com diversos exemplos de aplicação do CVXPY é fornecido pelos autores, S. Boyd, S. Diamond, J. Park, A. Agrawal, & J. Zhang, na página abaixo:\n",
        "https://stanford.edu/~boyd/papers/cvx_short_course.html\n",
        "\n",
        "\n",
        "Em particular, há também um exemplo relacionado ao tópico de Controle: https://nbviewer.org/github/cvxgrp/cvx_short_course/blob/master/intro/control.ipynb\n",
        "\n",
        "Outros exemplos de projeto de observadores usando CVXPY estão disponíveis em: https://jckantor.github.io/cbe30338-2021/04.07-Observer-Synthesis-LMI.html\n",
        "\n",
        "\n",
        "O solver padrão é o SCS v3.2.2 - Splitting Conic Solver, como pode ser visto no status de retorno da solução dos problemas de otimização apresentados abaixo (basta fazer verbose=False). No entanto, é possível utilizar outros solvers, como o Mosek, mas esta configuração não será discutida aqui."
      ],
      "metadata": {
        "id": "x_1br2lkqwTJ"
      }
    },
    {
      "cell_type": "code",
      "source": [
        "import cvxpy as cp # importa a biblioteca do CVXPY\n",
        "import numpy as np # importa a biblioteca NUMPY\n",
        "from scipy import signal\n",
        "import matplotlib.pyplot as plt\n",
        "# NumPy (https://numpy.org/) é uma biblioteca para a linguagem de programação Python,\n",
        "# que suporta o processamento matrizes, juntamente com uma grande coleção de\n",
        "# funções matemáticas de alto nível para operar sobre estas matrizes."
      ],
      "metadata": {
        "id": "Q1SYFGxxRg57"
      },
      "execution_count": null,
      "outputs": []
    },
    {
      "cell_type": "markdown",
      "source": [
        "## **Estabilidade de sistemas LTI em tempo contínuo**"
      ],
      "metadata": {
        "id": "c1tokwWwBMMN"
      }
    },
    {
      "cell_type": "markdown",
      "source": [
        "Considere o sistema descrito por\n",
        "\n",
        "\\begin{align}\n",
        "\\dot{x}(t) = A x(t)\n",
        "\\end{align}\n",
        "\n",
        "O objetivo aqui é checar a estabilidade do sistema acima.\n",
        "\n",
        "**Problema:** Seja $P$ uma matriz simétrica, o sistema LTI é estável se e somente se\n",
        "\\begin{align*}\n",
        "P > 0 \\\\\n",
        "A^\\top P + P A < 0\n",
        "\\end{align*}\n",
        "\n",
        "Como exemplo, vamos considerar o sistema com a matriz $A$ dada por\n",
        "\\begin{align}\n",
        "A =\n",
        "\\begin{bmatrix}\n",
        "0 & 1 \\\\\n",
        "-2 & -3\n",
        "\\end{bmatrix}\n",
        "\\end{align}"
      ],
      "metadata": {
        "id": "o78HEIbYFR8m"
      }
    },
    {
      "cell_type": "code",
      "source": [
        "## Definindo a matriz A\n",
        "A = np.array([[0, 1], [-2, -3]])\n",
        "print(np.linalg.eig(A)[0])"
      ],
      "metadata": {
        "colab": {
          "base_uri": "https://localhost:8080/"
        },
        "id": "w4bzdyYc_Lh3",
        "outputId": "6549fdff-cc16-4fa3-abb3-189c40b794de"
      },
      "execution_count": null,
      "outputs": [
        {
          "output_type": "stream",
          "name": "stdout",
          "text": [
            "[-1. -2.]\n"
          ]
        }
      ]
    },
    {
      "cell_type": "code",
      "execution_count": null,
      "metadata": {
        "colab": {
          "base_uri": "https://localhost:8080/"
        },
        "id": "mz5p8_9BxIHz",
        "outputId": "5b6a15de-31bd-413e-f274-4657664217ba"
      },
      "outputs": [
        {
          "output_type": "stream",
          "name": "stdout",
          "text": [
            "The solution is optimal\n"
          ]
        }
      ],
      "source": [
        "n = A.shape[0] # ordem do sistema\n",
        "\n",
        "## Definindo a matriz P como uma matriz de variáveis de decisão\n",
        "P = cp.Variable((n,n), PSD=True) # Aqui, PSD eh uma variável booleana que indica\n",
        "# se a variável deverá ser simétrica e positiva definida (True), ou não (False)\n",
        "# Outras estruturas de variaveis estao disponiveis em\n",
        "# https://www.cvxpy.org/tutorial/advanced/index.html\n",
        "\n",
        "## Definindo as restricoes do problema\n",
        "constraints = [P >> 1e-3*np.eye(n)] # P > 0\n",
        "constraints += [A.T@P + P@A << -1e-3*np.eye(n)] # A'P + PA < 0\n",
        "\n",
        "## Definindo o custo a ser minimizado\n",
        "cost = 0\n",
        "objective = cp.Minimize(cost)\n",
        "# Resolvendo o problema de otimizacao\n",
        "prob = cp.Problem(objective,constraints)\n",
        "# Uma descricao detalhada dos problemas pode ser encontrada em\n",
        "# https://www.cvxpy.org/api_reference/cvxpy.problems.html\n",
        "\n",
        "# Visualizando o status da solucao\n",
        "prob.solve(verbose=False) # O status detalhado da solucao pode ser obtido\n",
        "# definindo verbose = True (similar ao Yalmip no Matlab)\n",
        "print('The solution is ' + prob.status) # Apresenta se a solucao\n",
        "# eh factivel (optimal) ou nao (infeasible)"
      ]
    },
    {
      "cell_type": "markdown",
      "source": [],
      "metadata": {
        "id": "PmSQiGP2V5Cm"
      }
    },
    {
      "cell_type": "code",
      "source": [
        "# Para visualizar os valores das variaveis obtidas do problema anterior, basta fazer\n",
        "print(P.value)"
      ],
      "metadata": {
        "colab": {
          "base_uri": "https://localhost:8080/"
        },
        "id": "gLknqes-MOYF",
        "outputId": "fb06204e-38d7-4a48-8f4a-5149087813b8"
      },
      "execution_count": null,
      "outputs": [
        {
          "output_type": "stream",
          "name": "stdout",
          "text": [
            "[[0.0028803  0.0007562 ]\n",
            " [0.0007562  0.00158232]]\n"
          ]
        }
      ]
    },
    {
      "cell_type": "code",
      "source": [
        "# Note que P eh de fato simetrica e positiva definida. Para visualizar os autovalores de P, basta fazer\n",
        "print(np.linalg.eig(P.value)[0])"
      ],
      "metadata": {
        "colab": {
          "base_uri": "https://localhost:8080/"
        },
        "id": "ActoHAOXNCc7",
        "outputId": "8331eebd-d2a2-45fc-9d18-697fe4767f87"
      },
      "execution_count": null,
      "outputs": [
        {
          "output_type": "stream",
          "name": "stdout",
          "text": [
            "[0.00322782 0.0012348 ]\n"
          ]
        }
      ]
    },
    {
      "cell_type": "markdown",
      "source": [
        "## **Instabilidade de sistemas LTI em tempo contínuo**"
      ],
      "metadata": {
        "id": "Vr9S8WYNNOt-"
      }
    },
    {
      "cell_type": "markdown",
      "source": [
        "Considere agora o sistema com a matriz $A$ dada por\n",
        "\\begin{align}\n",
        "A =\n",
        "\\begin{bmatrix}\n",
        "0 & 1 \\\\\n",
        "-1 & 2\n",
        "\\end{bmatrix}\n",
        "\\end{align}\n",
        "\n",
        "Sabe-se que este sistema é instavel, já que possui 2 autovalores repetidos em $ 1$."
      ],
      "metadata": {
        "id": "suRfB9-KNLHB"
      }
    },
    {
      "cell_type": "code",
      "source": [
        "## Para encontrar os autovalores da matriz A, pode-se fazer\n",
        "A = np.array([[0, 1], [-1, 2]])\n",
        "print(np.linalg.eig(A)[0])"
      ],
      "metadata": {
        "colab": {
          "base_uri": "https://localhost:8080/"
        },
        "id": "1R6vaHXmNVR6",
        "outputId": "38514422-0d60-4587-e3ac-7dcbd563f927"
      },
      "execution_count": null,
      "outputs": [
        {
          "output_type": "stream",
          "name": "stdout",
          "text": [
            "[1. 1.]\n"
          ]
        }
      ]
    },
    {
      "cell_type": "code",
      "source": [
        "## Definindo a matriz A\n",
        "A = np.array([[0, 1], [-1, 2]])\n",
        "n = A.shape[0] # ordem do sistema\n",
        "## Definindo a matriz P como uma matriz de variáveis de decisao\n",
        "P = cp.Variable((n,n), PSD=True) # Aqui, PSD eh uma variable booleana que indica\n",
        "# se a variavel devera ser simetrica e positiva definida (True) ou nao (False)\n",
        "# Outras estruturas de variaveis estao disponiveis em\n",
        "# https://www.cvxpy.org/tutorial/advanced/index.html\n",
        "\n",
        "## Definindo as restricoes do problema\n",
        "constraints = [P >> 1e-3*np.eye(n)] # P > 0\n",
        "constraints += [A.T@P + P@A << -1e-3*np.eye(n)] # A'P + PA < 0\n",
        "\n",
        "## Definindo o custo a ser minimizado\n",
        "cost = 0\n",
        "objective = cp.Minimize(cost)\n",
        "# Resolvendo o problema de otimizacao\n",
        "prob = cp.Problem(objective,constraints)\n",
        "# Uma descricao detalhada dos problemas pode ser encontrada em\n",
        "# https://www.cvxpy.org/api_reference/cvxpy.problems.html\n",
        "\n",
        "# Visualizando o status da solucao\n",
        "prob.solve(verbose=False) # O status detalhado da solucao pode ser obtido\n",
        "# definindo verbose = True (similar ao Yalmip no Matlab)\n",
        "print('The solution is ' + prob.status) # Apresenta se a solucao\n",
        "# eh factivel (optimal) ou nao (infeasible)"
      ],
      "metadata": {
        "colab": {
          "base_uri": "https://localhost:8080/"
        },
        "id": "Nm1Wxd5URXy2",
        "outputId": "230d997e-0fb7-4758-d974-7502df3618c0"
      },
      "execution_count": null,
      "outputs": [
        {
          "output_type": "stream",
          "name": "stdout",
          "text": [
            "The solution is infeasible\n"
          ]
        }
      ]
    },
    {
      "cell_type": "markdown",
      "source": [
        "## **Estabilidade de sistemas LTI em tempo discreto**"
      ],
      "metadata": {
        "id": "vWnuRnVGemul"
      }
    },
    {
      "cell_type": "markdown",
      "source": [
        "Considere agora o sistema em tempo discreto\n",
        "\\begin{align}\n",
        "x(k+1) = A x(k)\n",
        "\\end{align}\n",
        "com a matriz $A$ dada por\n",
        "\\begin{align}\n",
        "A =\n",
        "\\begin{bmatrix}\n",
        "0 & 1 \\\\\n",
        "0 & 0\n",
        "\\end{bmatrix}\n",
        "\\end{align}\n",
        "\n",
        "Sabe-se que este sistema é estável, já que possui 2 autovalores repetidos em $ 0$ (contidos no círculo de raio unitário)."
      ],
      "metadata": {
        "id": "lc3zIQz1fj0q"
      }
    },
    {
      "cell_type": "code",
      "source": [
        "A = np.array([[0, 1], [0, -2]])\n",
        "print(np.linalg.eig(A)[0])"
      ],
      "metadata": {
        "colab": {
          "base_uri": "https://localhost:8080/"
        },
        "id": "8US1FLsCe1wM",
        "outputId": "d483ebf6-573d-4dda-bf80-43e4d1d9e258"
      },
      "execution_count": null,
      "outputs": [
        {
          "output_type": "stream",
          "name": "stdout",
          "text": [
            "[ 0. -2.]\n"
          ]
        }
      ]
    },
    {
      "cell_type": "code",
      "source": [
        "## Definindo a matriz A\n",
        "A = np.array([[0, 1], [0, -2]])\n",
        "n = A.shape[0] # ordem do sistema\n",
        "\n",
        "## Definindo a matriz P como uma matriz de variáveis de decisão\n",
        "P = cp.Variable((n,n), PSD=True) # Aqui, PSD eh uma variável booleana que indica\n",
        "# se a variável deverá ser simétrica e positiva definida (True), ou não (False)\n",
        "# Outras estruturas de variaveis estao disponiveis em\n",
        "# https://www.cvxpy.org/tutorial/advanced/index.html\n",
        "\n",
        "## Definindo as restricoes do problema\n",
        "constraints = [P >> 1e-3*np.eye(n)] # P > 0\n",
        "constraints += [A.T@P@A - P << -1e-3*np.eye(n)] # A'PA - P < 0\n",
        "\n",
        "## Definindo o custo a ser minimizado\n",
        "cost = 0\n",
        "objective = cp.Minimize(cost)\n",
        "# Resolvendo o problema de otimizacao\n",
        "prob = cp.Problem(objective,constraints)\n",
        "# Uma descricao detalhada dos problemas pode ser encontrada em\n",
        "# https://www.cvxpy.org/api_reference/cvxpy.problems.html\n",
        "\n",
        "# Visualizando o status da solucao\n",
        "prob.solve(verbose=False) # O status detalhado da solucao pode ser obtido\n",
        "# definindo verbose = True (similar ao Yalmip no Matlab)\n",
        "print('The solution is ' + prob.status) # Apresenta se a solucao\n",
        "# eh factivel (optimal) ou nao (infeasible)"
      ],
      "metadata": {
        "colab": {
          "base_uri": "https://localhost:8080/"
        },
        "id": "biYba6aWes8u",
        "outputId": "7a9294f5-ecf5-4edb-db1e-796e95997b2e"
      },
      "execution_count": null,
      "outputs": [
        {
          "output_type": "stream",
          "name": "stdout",
          "text": [
            "The solution is infeasible\n"
          ]
        }
      ]
    },
    {
      "cell_type": "markdown",
      "source": [
        "## **Projeto de controle por realimentação de estados para sistemas LTI em tempo contínuo**"
      ],
      "metadata": {
        "id": "nzxTD7qfRnq4"
      }
    },
    {
      "cell_type": "markdown",
      "source": [
        "Considere o sistema descrito por\n",
        "\n",
        "\\begin{align}\n",
        "\\dot{x}(t) = A x(t) + B u(t)\n",
        "\\end{align}\n",
        "\n",
        "O objetivo aqui é projetar o ganho $K$ da lei de controle\n",
        "\\begin{align}\n",
        "u(t) = K x(t)\n",
        "\\end{align}\n",
        "tal que o sistema em malha fechada seja estável.\n",
        "\n",
        "**Problema:** Seja $Q$ uma matriz simétrica e $L$ uma matriz cheia. Se o problema de factibilidade sujeito às LMIs abaixo\n",
        "\\begin{align*}\n",
        "Q > 0 \\\\\n",
        "Q A^\\top +  A Q + B L + L^\\top B^\\top < 0\n",
        "\\end{align*}\n",
        "for satisfeito, então o sistema em malha fechada é estável.\n",
        "\n",
        "Como exemplo, vamos considerar o sistema com as matrizes\n",
        "\\begin{align}\n",
        "A =\n",
        "\\begin{bmatrix}\n",
        "0 & 1 \\\\\n",
        "-1 & 2\n",
        "\\end{bmatrix}, \\quad\n",
        "B =\n",
        "\\begin{bmatrix}\n",
        "0 \\\\ 1\n",
        "\\end{bmatrix}\n",
        "\\end{align}"
      ],
      "metadata": {
        "id": "yqjxjm2fR28K"
      }
    },
    {
      "cell_type": "code",
      "source": [
        "## Definindo as matrizes do sistems\n",
        "A = np.array([[0, 1], [-1, 2]])\n",
        "B = np.array([[0], [1]])\n",
        "print(np.linalg.eig(A)[0])"
      ],
      "metadata": {
        "colab": {
          "base_uri": "https://localhost:8080/"
        },
        "id": "SUdX5vnV4eR3",
        "outputId": "5f60608c-9873-4994-ecac-f43be0a4b7c2"
      },
      "execution_count": null,
      "outputs": [
        {
          "output_type": "stream",
          "name": "stdout",
          "text": [
            "[1. 1.]\n"
          ]
        }
      ]
    },
    {
      "cell_type": "code",
      "source": [
        "n = A.shape[0] # ordem do sistema\n",
        "m = B.shape[1] # numero de entradas\n",
        "## Definindo a matriz P como uma matriz de variáveis de decisao\n",
        "Q = cp.Variable((n,n), PSD=True) # Aqui, PSD eh uma variable booleana que indica\n",
        "# se a variavel devera ser simetrica e positiva definida (True) ou nao (False)\n",
        "# Outras estruturas de variaveis estao disponiveis em\n",
        "# https://www.cvxpy.org/tutorial/advanced/index.html\n",
        "L = cp.Variable((m,n), PSD=False)\n",
        "\n",
        "## Definindo as restricoes do problema\n",
        "constraints = [Q >> 1e-3*np.eye(n)] # Q > 0\n",
        "constraints += [Q@A.T + A@Q + B@L + L.T@B.T <<  -1e-3*np.eye(n)] # Q A' + A Q + BL + L'B' < 0\n",
        "\n",
        "## Definindo o custo a ser minimizado\n",
        "cost = 0\n",
        "objective = cp.Minimize(cost)\n",
        "# Resolvendo o problema de otimizacao\n",
        "prob = cp.Problem(objective,constraints)\n",
        "# Uma descricao detalhada dos problemas pode ser encontrada em\n",
        "# https://www.cvxpy.org/api_reference/cvxpy.problems.html\n",
        "\n",
        "# Visualizando o status da solucao\n",
        "prob.solve(verbose=False) # O status detalhado da solucao pode ser obtido\n",
        "# definindo verbose = True (similar ao Yalmip no Matlab)\n",
        "print('The solution is ' + prob.status) # Apresenta se a solucao\n",
        "# eh factivel (optimal) ou nao (infeasible)\n",
        "\n",
        "K = L.value@np.linalg.inv(Q.value)\n",
        "print(K)\n",
        "print(np.linalg.eig(A+B@K)[0])"
      ],
      "metadata": {
        "colab": {
          "base_uri": "https://localhost:8080/"
        },
        "id": "ARCjL5JCwI6n",
        "outputId": "e3aee27c-0c5f-4c35-c83a-d6eb0ada1904"
      },
      "execution_count": null,
      "outputs": [
        {
          "output_type": "stream",
          "name": "stdout",
          "text": [
            "The solution is optimal\n",
            "[[-0.31111802 -2.77465503]]\n",
            "[-0.38732751+1.07754138j -0.38732751-1.07754138j]\n"
          ]
        }
      ]
    },
    {
      "cell_type": "markdown",
      "source": [
        "## **Projeto de controle por realimentação de estados para sistemas LTI em tempo discreto**"
      ],
      "metadata": {
        "id": "U4nq4bf93b0e"
      }
    },
    {
      "cell_type": "markdown",
      "source": [
        "Considere o sistema descrito por\n",
        "\n",
        "\\begin{align}\n",
        "{x}(k+1) = A x(k) + B u(k)\n",
        "\\end{align}\n",
        "\n",
        "O objetivo aqui é projetar o ganho $K$ da lei de controle\n",
        "\\begin{align}\n",
        "u(k) = K x(k)\n",
        "\\end{align}\n",
        "tal que o sistema em malha fechada seja estável.\n",
        "\n",
        "**Problema:** Seja $X$ uma matriz simétrica e $L$ uma matriz cheia. Se o problema de factibilidade sujeito às LMIs abaixo\n",
        "\\begin{align*}\n",
        "X > 0 \\\\\n",
        "\\begin{bmatrix}\n",
        "-X & XA^\\top + L^\\top B^\\top \\\\\n",
        "AX+BL & -X\n",
        "\\end{bmatrix} < 0\n",
        "\\end{align*}\n",
        "for satisfeito, então o sistema em malha fechada é estável.\n",
        "\n",
        "Como exemplo, vamos considerar o sistema com as matrizes\n",
        "\\begin{align}\n",
        "A =\n",
        "\\begin{bmatrix}\n",
        "0 & 1 \\\\\n",
        "1 & 2\n",
        "\\end{bmatrix}, \\quad\n",
        "B =\n",
        "\\begin{bmatrix}\n",
        "0 \\\\ 1\n",
        "\\end{bmatrix}\n",
        "\\end{align}"
      ],
      "metadata": {
        "id": "RunyYmKE2wtY"
      }
    },
    {
      "cell_type": "code",
      "source": [
        "## Definindo as matrizes do sistems\n",
        "A = np.array([[0, 1], [1, 2]])\n",
        "B = np.array([[0], [1]])"
      ],
      "metadata": {
        "id": "nqIXkxSW3hJh"
      },
      "execution_count": null,
      "outputs": []
    },
    {
      "cell_type": "code",
      "source": [
        "print(np.linalg.eig(A)[0])"
      ],
      "metadata": {
        "colab": {
          "base_uri": "https://localhost:8080/"
        },
        "id": "smpluXcn3k42",
        "outputId": "133c3c1a-2a15-49fb-fc42-e7ace033e705"
      },
      "execution_count": null,
      "outputs": [
        {
          "output_type": "stream",
          "name": "stdout",
          "text": [
            "[-0.41421356  2.41421356]\n"
          ]
        }
      ]
    },
    {
      "cell_type": "code",
      "source": [
        "n = A.shape[0] # ordem do sistema\n",
        "m = B.shape[1] # numero de entradas\n",
        "## Definindo a matriz P como uma matriz de variáveis de decisao\n",
        "X = cp.Variable((n,n), PSD=True) # Aqui, PSD eh uma variable booleana que indica\n",
        "# se a variavel devera ser simetrica e positiva definida (True) ou nao (False)\n",
        "# Outras estruturas de variaveis estao disponiveis em\n",
        "# https://www.cvxpy.org/tutorial/advanced/index.html\n",
        "L = cp.Variable((m,n), PSD=False)\n",
        "\n",
        "## Definindo as restricoes do problema\n",
        "constraints = [X >> 1e-3*np.eye(n)] # P > 0\n",
        "constraints += [cp.bmat([[-X, X@A.T + L.T@B.T],\n",
        "                         [A@X + B@L, -X]]) <<  -1e-3*np.eye(2*n)] # A'P + PA + BL + L'B' < 0\n",
        "\n",
        "## Definindo o custo a ser minimizado\n",
        "cost = 0\n",
        "objective = cp.Minimize(cost)\n",
        "# Resolvendo o problema de otimizacao\n",
        "prob = cp.Problem(objective,constraints)\n",
        "# Uma descricao detalhada dos problemas pode ser encontrada em\n",
        "# https://www.cvxpy.org/api_reference/cvxpy.problems.html\n",
        "\n",
        "# Visualizando o status da solucao\n",
        "prob.solve(verbose=False) # O status detalhado da solucao pode ser obtido\n",
        "# definindo verbose = True (similar ao Yalmip no Matlab)\n",
        "print('The solution is ' + prob.status) # Apresenta se a solucao\n",
        "# eh factivel (optimal) ou nao (infeasible)\n",
        "\n",
        "K = L.value@np.linalg.inv(X.value)\n",
        "print(K)\n",
        "print(np.linalg.eig(A+B@K)[0])"
      ],
      "metadata": {
        "colab": {
          "base_uri": "https://localhost:8080/"
        },
        "id": "LPChY8TI3kB5",
        "outputId": "477f9d68-0a81-479c-cac2-e0eea430eafc"
      },
      "execution_count": null,
      "outputs": [
        {
          "output_type": "stream",
          "name": "stdout",
          "text": [
            "The solution is optimal\n",
            "[[-0.99999562 -2.00000084]]\n",
            "[ 0.00209342 -0.00209426]\n"
          ]
        }
      ]
    },
    {
      "cell_type": "markdown",
      "source": [
        "# Análise de estabilidade quadrática de sistemas politópicos em tempo contínuo"
      ],
      "metadata": {
        "id": "YM35qhW-gthY"
      }
    },
    {
      "cell_type": "markdown",
      "source": [
        "Considere o sistema descrito por\n",
        "\n",
        "\\begin{align}\n",
        "\\dot{x}(t) = A(\\alpha(t)) x(t)\n",
        "\\end{align}\n",
        "\n",
        "onde $\\alpha$ é um parâmetro que pertence ao *simplex*\n",
        "\n",
        "\\begin{align}\n",
        "\\Lambda = \\left\\lbrace\\alpha \\in \\mathbb{R}^N : \\sum_{i = 1}^N \\alpha_i = 1, \\; \\alpha_i \\geq 0\\right\\rbrace\n",
        "\\end{align}\n",
        "\n",
        "**Problema:** Seja $P$ uma matriz simétrica. Se o problema de factibilidade sujeito às LMIs abaixo\n",
        "\\begin{align*}\n",
        "P &> 0 \\\\\n",
        "A_i^\\top P +  P A_i &< 0, \\quad \\forall i = 1,2,\\ldots, N,\n",
        "\\end{align*}\n",
        "for satisfeito, então o sistema é quadraticamente estável.\n",
        "\n",
        "Como exemplo, vamos considerar o sistema com as matrizes\n",
        "\\begin{align}\n",
        "A_1 =\n",
        "\\begin{bmatrix}\n",
        "0 & 1 \\\\\n",
        "-2 & -1\n",
        "\\end{bmatrix}, \\quad\n",
        "A_2 =\n",
        "\\begin{bmatrix}\n",
        "-1 & 0  \\\\\n",
        "3 & -1\n",
        "\\end{bmatrix}\n",
        "\\end{align}"
      ],
      "metadata": {
        "id": "T2LUMmJAgxO1"
      }
    },
    {
      "cell_type": "code",
      "source": [
        "## Definindo as matrizes Ai\n",
        "A = np.array([[[0, 1], [-2, -1]],[[0,1], [-3, -1]]])\n",
        "n = A.shape[1] # ordem do sistema\n",
        "N = A.shape[0] # numero de vertices\n",
        "\n",
        "## Definindo a matriz P como uma matriz de variáveis de decisao\n",
        "P = cp.Variable((n,n), PSD=True) # Aqui, PSD eh uma variable booleana que indica\n",
        "# se a variavel devera ser simetrica e positiva definida (True) ou nao (False)\n",
        "# Outras estruturas de variaveis estao disponiveis em\n",
        "# https://www.cvxpy.org/tutorial/advanced/index.html\n",
        "\n",
        "## Definindo as restricoes do problema\n",
        "constraints = [P >> 1e-3*np.eye(n)] # P > 0\n",
        "for i in range(N):\n",
        "  constraints += [A[i].T@P + P@A[i] << -1e-3*np.eye(n)] # A'P + PA < 0\n",
        "\n",
        "## Definindo o custo a ser minimizado\n",
        "cost = 0\n",
        "objective = cp.Minimize(cost)\n",
        "# Resolvendo o problema de otimizacao\n",
        "prob = cp.Problem(objective,constraints)\n",
        "# Uma descricao detalhada dos problemas pode ser encontrada em\n",
        "# https://www.cvxpy.org/api_reference/cvxpy.problems.html\n",
        "\n",
        "# Visualizando o status da solucao\n",
        "prob.solve(verbose=False) # O status detalhado da solucao pode ser obtido\n",
        "# definindo verbose = True (similar ao Yalmip no Matlab)\n",
        "print('The solution is ' + prob.status) # Apresenta se a solucao\n",
        "# eh factivel (optimal) ou nao (infeasible)"
      ],
      "metadata": {
        "colab": {
          "base_uri": "https://localhost:8080/"
        },
        "id": "bBpPddASgxcw",
        "outputId": "99e02580-bd40-48cf-908a-29712cdbd9af"
      },
      "execution_count": null,
      "outputs": [
        {
          "output_type": "stream",
          "name": "stdout",
          "text": [
            "The solution is optimal\n"
          ]
        }
      ]
    },
    {
      "cell_type": "code",
      "source": [
        "print(A.shape[1])"
      ],
      "metadata": {
        "colab": {
          "base_uri": "https://localhost:8080/"
        },
        "id": "5mXENewtdnZz",
        "outputId": "8ea75ab6-9e38-4b15-e3dc-7e25ef1d2713"
      },
      "execution_count": null,
      "outputs": [
        {
          "output_type": "stream",
          "name": "stdout",
          "text": [
            "2\n"
          ]
        }
      ]
    },
    {
      "cell_type": "markdown",
      "source": [
        "# Projeto de controlador com ganho escalonado para estabilização de sistemas politópicos em tempo contínuo"
      ],
      "metadata": {
        "id": "LeaUw6IwExoI"
      }
    },
    {
      "cell_type": "markdown",
      "source": [
        "Considere o sistema descrito por\n",
        "\n",
        "\\begin{align}\n",
        "\\dot{x}(t) = A(\\alpha(t)) x(t) + B(\\alpha(t))u(t)\n",
        "\\end{align}\n",
        "\n",
        "e a seguinte lei de controle com ganho escalonado\n",
        "\\begin{align}\n",
        " u(t) = K(\\alpha(t)) x(t)\n",
        "\\end{align}\n",
        "\n",
        "**Problema:** Seja $Q$ uma matriz simétrica e $L_i$, $i = 1,\\ldots,N$, matrizes cheias. Se o problema de factibilidade sujeito às LMIs abaixo for satisfeito\n",
        "\\begin{align*}\n",
        "Q &> 0 \\\\\n",
        "\\Gamma_{ii} &< 0, \\quad i = j, \\\\\n",
        "\\Gamma_{ij} + \\Gamma_{ji} &< 0, \\quad i < j, \\quad \\forall i, j = 1,2,\\ldots, N,\n",
        "\\end{align*}\n",
        "onde $\\Gamma_{ij}=Q A_i^\\top +  A_iQ + B_i L_j + L_j^\\top B_i^\\top$,\n",
        "então o sistema em malha fechada é assintoticamente estável.\n",
        "\n",
        "Como exemplo, vamos considerar o sistema com as matrizes\n",
        "\\begin{align}\n",
        "A_1 =\n",
        "\\begin{bmatrix}\n",
        "0 & 1 \\\\\n",
        "-2 & -1\n",
        "\\end{bmatrix}, \\quad\n",
        "A_2 =\n",
        "\\begin{bmatrix}\n",
        "-1 & 0  \\\\\n",
        "3 & -1\n",
        "\\end{bmatrix}, \\quad\n",
        "B_{1} = B_{2} =\n",
        "\\begin{bmatrix}\n",
        "0 \\\\ 1\n",
        "\\end{bmatrix}\n",
        "\\end{align}"
      ],
      "metadata": {
        "id": "v65cqKRUExzi"
      }
    },
    {
      "cell_type": "code",
      "source": [
        "## Definindo as matrizes A_i\n",
        "A = np.array([[[0, 1], [-2, -1]], [[-1, 0], [3, -1]]])\n",
        "B = np.array([[[0], [1]], [[0], [1]]])\n",
        "n = A.shape[0] # ordem do sistema\n",
        "m = B.shape[2] # numero de entradas\n",
        "N = A.shape[0] # numero de vertices\n",
        "\n",
        "## Definindo a matriz P como uma matriz de variáveis de decisao\n",
        "Q = cp.Variable((n,n), PSD=True) # Aqui, PSD eh uma variable booleana que indica\n",
        "# se a variavel devera ser simetrica e positiva definida (True) ou nao (False)\n",
        "# Outras estruturas de variaveis estao disponiveis em\n",
        "# https://www.cvxpy.org/tutorial/advanced/index.html\n",
        "L = {}\n",
        "for i in range(N):\n",
        "  L[i] = cp.Variable((m,n), PSD=False)\n",
        "\n",
        "## Definindo Gamma\n",
        "Gamma = {} # inicializa Gamma\n",
        "for i in range(N):\n",
        "  for j in range(N):\n",
        "    Gamma[i,j] = Q@A[i].T + A[i]@Q + B[i]@L[j] + L[j].T@B[i].T\n",
        "\n",
        "## Definindo as restricoes do problema\n",
        "constraints = [Q >> 1e-3*np.eye(n)] # P > 0\n",
        "for i in range(N):\n",
        "  for j in range(N):\n",
        "    if i == j:\n",
        "      constraints += [Gamma[i,i] << -1e-3*np.eye(n)] # Gamma_{ii} < 0\n",
        "    else:\n",
        "      constraints += [Gamma[i,j] + Gamma[j,i] << -1e-3*np.eye(n)] # Gamma_{ij} + Gamma_{ji} < 0\n",
        "\n",
        "## Definindo o custo a ser minimizado\n",
        "cost = 0\n",
        "objective = cp.Minimize(cost)\n",
        "# Resolvendo o problema de otimizacao\n",
        "prob = cp.Problem(objective,constraints)\n",
        "# Uma descricao detalhada dos problemas pode ser encontrada em\n",
        "# https://www.cvxpy.org/api_reference/cvxpy.problems.html\n",
        "\n",
        "# Visualizando o status da solucao\n",
        "prob.solve(verbose=False) # O status detalhado da solucao pode ser obtido\n",
        "# definindo verbose = True (similar ao Yalmip no Matlab)\n",
        "print('The solution is ' + prob.status) # Apresenta se a solucao\n",
        "# eh factivel (optimal) ou nao (infeasible)\n",
        "\n",
        "K = {}\n",
        "for i in range(N):\n",
        "  K[i] = L[i].value@np.linalg.inv(Q.value)\n",
        "\n",
        "print(K)"
      ],
      "metadata": {
        "id": "sGkODMI0EyNV",
        "colab": {
          "base_uri": "https://localhost:8080/"
        },
        "outputId": "1cc3e595-48dd-46fe-9280-3f3d81609045"
      },
      "execution_count": null,
      "outputs": [
        {
          "output_type": "stream",
          "name": "stdout",
          "text": [
            "The solution is optimal\n",
            "{0: array([[ 0.39300932, -0.01843558]]), 1: array([[-3.85105296,  0.26549701]])}\n"
          ]
        }
      ]
    },
    {
      "cell_type": "markdown",
      "source": [
        "# O que mais pode ser feito?"
      ],
      "metadata": {
        "id": "DSX-X3CIN0IS"
      }
    },
    {
      "cell_type": "markdown",
      "source": [
        "Este documento apresentou apenas os primeiros passos para resolver LMIs em Python. Apesar disso, foi possível resolver problemas de análise e síntese que estamos habituados a implementar no Matlab.\n",
        "\n",
        "Há duas extensões que devem ser investigadas posteriormente:\n",
        " - instalação do Mosek e configuração para utilizá-lo com o CVXPY;\n",
        " - desenvolvimento de funções para aplicar relaxações polinomiais e Lema de Pólya para fornecer condições progressivamente menos conservadoras."
      ],
      "metadata": {
        "id": "AlXUVF-POH_w"
      }
    }
  ]
}